{
 "cells": [
  {
   "cell_type": "code",
   "execution_count": 5,
   "id": "6e6e642e",
   "metadata": {},
   "outputs": [],
   "source": [
    "from sklearn.neighbors import KNeighborsClassifier\n",
    "from sklearn.model_selection import train_test_split\n",
    "from sklearn.preprocessing import StandardScaler\n",
    "from sklearn.neighbors import KNeighborsClassifier\n",
    "from sklearn.metrics import confusion_matrix\n",
    "import seaborn as sns \n",
    "import matplotlib.pyplot as plt\n",
    "import pandas as pd\n",
    "import numpy as np"
   ]
  },
  {
   "cell_type": "code",
   "execution_count": 6,
   "id": "10c80cae",
   "metadata": {},
   "outputs": [],
   "source": [
    "def knn_iris():\n",
    "    \"\"\"\n",
    "    用KNN算法对鸢尾花进行分类\n",
    "    \"\"\"\n",
    "    #1:获取数据\n",
    "    from sklearn.datasets import load_iris\n",
    "    iris = load_iris()\n",
    "    \n",
    "    #2:分类训练测试集\n",
    "    X_train, X_test, y_train, y_test = train_test_split(iris.data, iris.target,random_state=6)\n",
    "    \n",
    "    #3.标准化\n",
    "    transfer = StandardScaler()\n",
    "    X_train = transfer.fit_transform(X_train)\n",
    "    X_test = transfer.transform(X_test)\n",
    "    \n",
    "    #4:分类评估器\n",
    "    estimator = KNeighborsClassifier(n_neighbors=11)\n",
    "    estimator.fit(X_train, y_train)\n",
    "    \n",
    "    #5:模型评估\n",
    "    y_predict = estimator.predict(X_test)\n",
    "    print(confusion_matrix(y_predict, y_test))\n",
    "    #print(estimator.score(X_test, y_test))\n",
    "    print(pd.DataFrame(X_test))\n",
    "    g = sns.countplot(y_test)\n",
    "    plt.show(g)\n",
    "    g = sns.countplot(y_predict)\n",
    "    plt.show(g)\n",
    "    \n",
    "\n",
    "    return None"
   ]
  },
  {
   "cell_type": "code",
   "execution_count": 8,
   "id": "ba9ac086",
   "metadata": {},
   "outputs": [
    {
     "name": "stdout",
     "output_type": "stream",
     "text": [
      "[[12  0  0]\n",
      " [ 0 12  2]\n",
      " [ 0  0 12]]\n",
      "           0         1         2         3\n",
      "0  -1.021761  1.214463 -1.326474 -1.300754\n",
      "1   0.775682 -0.192639  0.986042  0.771202\n",
      "2  -1.381250  0.276395 -1.382877 -1.300754\n",
      "3  -0.901931  0.510912 -1.157265 -0.912262\n",
      "4   0.536023 -0.896190  0.647625  0.771202\n",
      "5  -0.182954 -0.427156  0.252806  0.123716\n",
      "6   0.296364 -1.130707  1.042445  0.253213\n",
      "7  -0.901931  0.745429 -1.270071 -1.300754\n",
      "8   0.655853  0.041878  0.986042  0.771202\n",
      "9  -0.422613 -1.834258  0.140000  0.123716\n",
      "10  0.296364 -0.192639  0.647625  0.771202\n",
      "11 -0.422613 -1.599741 -0.029209 -0.264776\n",
      "12  0.655853  0.276395  0.873237  1.418689\n",
      "13  2.213637 -0.192639  1.324459  1.418689\n",
      "14  0.655853 -0.427156  0.309208  0.123716\n",
      "15  0.176535 -2.068775  0.704028  0.382711\n",
      "16  2.093807 -0.192639  1.606473  1.159694\n",
      "17  0.655853  0.276395  0.422014  0.382711\n",
      "18 -0.063124 -1.130707  0.140000 -0.005781\n",
      "19 -0.782102  2.387049 -1.270071 -1.430251\n",
      "20 -1.141590  1.214463 -1.326474 -1.430251\n",
      "21  1.255001  0.276395  1.098848  1.418689\n",
      "22 -0.901931  1.683497 -1.044460 -1.041759\n",
      "23 -0.901931  0.979946 -1.326474 -1.300754\n",
      "24 -0.182954 -0.661673  0.422014  0.123716\n",
      "25  0.536023 -1.365224  0.647625  0.382711\n",
      "26  0.536023 -1.834258  0.365611  0.123716\n",
      "27  1.494660 -0.192639  1.211654  1.159694\n",
      "28 -1.261420  0.041878 -1.213668 -1.300754\n",
      "29 -1.021761 -1.834258 -0.254820 -0.264776\n",
      "30 -1.261420 -0.192639 -1.326474 -1.171256\n",
      "31 -0.782102 -0.896190  0.083597  0.253213\n",
      "32 -0.542443  1.918014 -1.382877 -1.041759\n",
      "33 -1.860568 -0.192639 -1.495682 -1.430251\n",
      "34  0.536023 -0.661673  0.760431  0.382711\n",
      "35  0.655853 -0.661673  1.042445  1.159694\n",
      "36 -0.302784 -0.427156 -0.085611  0.123716\n",
      "37  0.536023 -1.365224  0.704028  0.900700\n"
     ]
    },
    {
     "name": "stderr",
     "output_type": "stream",
     "text": [
      "/Users/shenzongqi/opt/anaconda3/lib/python3.9/site-packages/seaborn/_decorators.py:36: FutureWarning: Pass the following variable as a keyword arg: x. From version 0.12, the only valid positional argument will be `data`, and passing other arguments without an explicit keyword will result in an error or misinterpretation.\n",
      "  warnings.warn(\n"
     ]
    },
    {
     "data": {
      "image/png": "[encoded data removed]",
      "text/plain": [
       "<Figure size 432x288 with 1 Axes>"
      ]
     },
     "metadata": {
      "needs_background": "light"
     },
     "output_type": "display_data"
    },
    {
     "name": "stderr",
     "output_type": "stream",
     "text": [
      "/Users/shenzongqi/opt/anaconda3/lib/python3.9/site-packages/seaborn/_decorators.py:36: FutureWarning: Pass the following variable as a keyword arg: x. From version 0.12, the only valid positional argument will be `data`, and passing other arguments without an explicit keyword will result in an error or misinterpretation.\n",
      "  warnings.warn(\n"
     ]
    },
    {
     "data": {
      "image/png": "[encoded data removed]",
      "text/plain": [
       "<Figure size 432x288 with 1 Axes>"
      ]
     },
     "metadata": {
      "needs_background": "light"
     },
     "output_type": "display_data"
    }
   ],
   "source": [
    "if __name__ == \"__main__\":\n",
    "    knn_iris() \n"
   ]
  },
  {
   "cell_type": "code",
   "execution_count": 9,
   "id": "59b38108",
   "metadata": {},
   "outputs": [
    {
     "data": {
      "text/plain": [
       "0.9473684210526315"
      ]
     },
     "execution_count": 9,
     "metadata": {},
     "output_type": "execute_result"
    }
   ],
   "source": [
    "(12+12+12)/(12+12+12+2)"
   ]
  },
  {
   "cell_type": "code",
   "execution_count": null,
   "id": "5ce7d052",
   "metadata": {},
   "outputs": [],
   "source": []
  }
 ],
 "metadata": {
  "kernelspec": {
   "display_name": "Python 3.9.12 ('base')",
   "language": "python",
   "name": "python3"
  },
  "language_info": {
   "codemirror_mode": {
    "name": "ipython",
    "version": 3
   },
   "file_extension": ".py",
   "mimetype": "text/x-python",
   "name": "python",
   "nbconvert_exporter": "python",
   "pygments_lexer": "ipython3",
   "version": "3.9.12"
  },
  "vscode": {
   "interpreter": {
    "hash": "ce86bf89afff318549cbea7f383d9b96b5e8165557b1f8750e3bfbeeacca9249"
   }
  }
 },
 "nbformat": 4,
 "nbformat_minor": 5
}
